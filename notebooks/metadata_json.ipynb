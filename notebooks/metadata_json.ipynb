{
 "cells": [
  {
   "cell_type": "code",
   "execution_count": 2,
   "metadata": {},
   "outputs": [
    {
     "name": "stdout",
     "output_type": "stream",
     "text": [
      "Extracted metadata columns saved to ../data/created/contracts_metadata_only.json\n"
     ]
    }
   ],
   "source": [
    "import pandas as pd\n",
    "import json\n",
    "\n",
    "# Define the metadata columns to extract\n",
    "metadata_columns = [\n",
    "    \"Filename\",\n",
    "    \"Document Name-Answer\",\n",
    "    \"Parties-Answer\",\n",
    "    \"Agreement Date-Answer\",\n",
    "    \"Effective Date-Answer\",\n",
    "    \"Expiration Date-Answer\",\n",
    "    \"Renewal Term-Answer\",\n",
    "    \"Notice Period To Terminate Renewal- Answer\",\n",
    "    \"Governing Law-Answer\"\n",
    "]\n",
    "\n",
    "# Load your CSV file into a DataFrame\n",
    "csv_file = \"../data/CUAD_v1/master_clauses.csv\"  # Change to your CSV file path\n",
    "df = pd.read_csv(csv_file)\n",
    "\n",
    "# Extract only the metadata columns from the DataFrame\n",
    "metadata_df = df[metadata_columns]\n",
    "metadata_df = metadata_df.fillna(\"\")\n",
    "\n",
    "# Create a dictionary with filenames as keys\n",
    "contracts_metadata = {}\n",
    "\n",
    "# Clean up any dates with []/[]/[] pattern to empty string\n",
    "def clean_date(date_str):\n",
    "    if not isinstance(date_str, str):\n",
    "        return date_str\n",
    "    # Handle both []/[]/[] and []/[]/YYYY patterns\n",
    "    if '[]/[]' in date_str:\n",
    "        # If it has a year at the end, extract just the year\n",
    "        if date_str.endswith(']'):\n",
    "            return ''\n",
    "        try:\n",
    "            year = date_str.split('/')[-1]\n",
    "            if year.isdigit() and len(year) == 4:\n",
    "                return year\n",
    "            return ''\n",
    "        except:\n",
    "            return ''\n",
    "    return date_str\n",
    "\n",
    "# Add function to clean dates in the DataFrame\n",
    "metadata_df['Effective Date-Answer'] = metadata_df['Effective Date-Answer'].apply(clean_date)\n",
    "metadata_df['Agreement Date-Answer'] = metadata_df['Agreement Date-Answer'].apply(clean_date)\n",
    "metadata_df['Expiration Date-Answer'] = metadata_df['Expiration Date-Answer'].apply(clean_date)\n",
    "\n",
    "\n",
    "for _, row in metadata_df.iterrows():\n",
    "    filename = row[\"Filename\"]\n",
    "    # Create a copy of the row as dict and remove the filename field\n",
    "    contract_data = row.to_dict()\n",
    "    del contract_data[\"Filename\"]\n",
    "    \n",
    "    # Clean up extra spaces in document name\n",
    "    if \"Document Name-Answer\" in contract_data:\n",
    "        contract_data[\"Document Name-Answer\"] = \" \".join(contract_data[\"Document Name-Answer\"].split())\n",
    "    \n",
    "    # Add to the main dictionary with filename as key\n",
    "    contracts_metadata[filename] = contract_data\n",
    "\n",
    "# Write the metadata to a JSON file\n",
    "output_file = \"../data/created/contracts_metadata_only.json\"  # Output file path\n",
    "with open(output_file, \"w\") as json_file:\n",
    "    json.dump(contracts_metadata, json_file, indent=4, ensure_ascii=False)\n",
    "\n",
    "print(f\"Extracted metadata columns saved to {output_file}\")\n"
   ]
  }
 ],
 "metadata": {
  "kernelspec": {
   "display_name": ".venv",
   "language": "python",
   "name": "python3"
  },
  "language_info": {
   "codemirror_mode": {
    "name": "ipython",
    "version": 3
   },
   "file_extension": ".py",
   "mimetype": "text/x-python",
   "name": "python",
   "nbconvert_exporter": "python",
   "pygments_lexer": "ipython3",
   "version": "3.11.11"
  }
 },
 "nbformat": 4,
 "nbformat_minor": 2
}
